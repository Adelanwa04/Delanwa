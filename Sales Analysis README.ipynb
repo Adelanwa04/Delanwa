{
 "cells": [
  {
   "cell_type": "markdown",
   "id": "3fae9c6d",
   "metadata": {},
   "source": [
    "## Sales Analysis Visualization"
   ]
  },
  {
   "cell_type": "markdown",
   "id": "cb8b072f",
   "metadata": {},
   "source": [
    "##  by Taiwo Adelanwa"
   ]
  },
  {
   "cell_type": "markdown",
   "id": "51b85923",
   "metadata": {},
   "source": [
    "## Dataset"
   ]
  },
  {
   "cell_type": "markdown",
   "id": "5ad0c5b2",
   "metadata": {},
   "source": [
    "Sales analytics is the practice of generating insights from sales data, trends, and metrics to set targets and forecast future sales performance. Sales analysis is mining your data to evaluate the performance of your sales team against its goals. It provides insights about the top performing and underperforming products/services, the problems in selling and market opportunities, sales forecasting, and sales activities that generate revenue.\n",
    "\n",
    "This dataset include 186848 rows with 6 columns data entries;\n",
    "\n",
    "- Order ID - An Order ID is the number system that Amazon uses exclusively to keep track of orders. Each order receives its own Order ID that will not be duplicated. This number can be useful to the seller when attempting to find out certain details about an order such as shipment date or status.\n",
    "- Product - The product that have been sold.\n",
    "- Quantity Ordered - Ordered Quantity is the total item quantity ordered in the initial order (without any changes).\n",
    "- Price Each - The price of each products.\n",
    "- Order Date - This is the date the customer is requesting the order be shipped.\n",
    "- Purchase Address - The purchase order is prepared by the buyer, often through a purchasing department. The purchase order, or PO, usually includes a PO number, which is useful in matching shipments with purchases; a shipping date; billing address; shipping address; and the request items, quantities\n",
    "\n",
    "I did some wrangling which included:\n",
    "- Dropping missing values\n",
    "- Converting quantity ordered and price each to interger\n",
    "- Calculating sales from quantity ordered and price each\n",
    "- Extracting month from order date and converting to interger\n",
    "- Extracting year from order date and converting to interger\n",
    "- Extracting city from purchase address"
   ]
  },
  {
   "cell_type": "markdown",
   "id": "b6ee5b1d",
   "metadata": {},
   "source": [
    "What was the best Year for sales? How much was earned that Year?\n",
    "What was the best month for sales? How much was earned that month?\n",
    "What City had the highest number of sales?\n",
    "What time should we display adverstisement to maximize likelihood of customer's buying product?\n",
    "What products are most often sold together?\n",
    "What product sold the most? Why do you think it sold the most?"
   ]
  },
  {
   "cell_type": "markdown",
   "id": "1a27b556",
   "metadata": {},
   "source": [
    "## Summary of Findings"
   ]
  },
  {
   "cell_type": "markdown",
   "id": "68806819",
   "metadata": {},
   "source": [
    "I was able discover different trends and uncover insights when i analysed Sales dataset.The quaterly total sales analysis showed that we made considerable amount of sales in the 4th quater with over 11M with the 2nd quater looking great too with over 9M in sales. Uncovering more insights in our analysis, the monthly sales showed we made the most sales in December with over 4M, October and April was also impressive with us making over 3M. \n",
    "\n",
    "As we have our products in almost all cities in United States, an analysis was done to show the city sales distribution which showed that San Francisco is the top of the pile making over 8M. Los Angeles , New York City, Boston and Atlanta also made sales of over 5M, 4M, 3M and  2M respectively. Strategies in advertisement can maximize the likelihood of customers buying our product. I was also able to get more insight from this analysis, we made more sales at 12pm and 7pm and this the best time to display advertisement for our products.\n",
    "\n",
    "\n",
    "NB: Numbers associated with sales are in '$'"
   ]
  },
  {
   "cell_type": "markdown",
   "id": "c648f003",
   "metadata": {},
   "source": [
    "## Limitation"
   ]
  },
  {
   "cell_type": "markdown",
   "id": "2c3693f1",
   "metadata": {},
   "source": [
    "This analysis was limited as more analysis can be done to understand sales in each state and their differences in relation to time of advertisement for our products. The quaterly and monthly analysis of sales per state. The difference in prefernce of each products by state."
   ]
  },
  {
   "cell_type": "code",
   "execution_count": null,
   "id": "3df1ba6b",
   "metadata": {},
   "outputs": [],
   "source": []
  }
 ],
 "metadata": {
  "kernelspec": {
   "display_name": "Python 3 (ipykernel)",
   "language": "python",
   "name": "python3"
  },
  "language_info": {
   "codemirror_mode": {
    "name": "ipython",
    "version": 3
   },
   "file_extension": ".py",
   "mimetype": "text/x-python",
   "name": "python",
   "nbconvert_exporter": "python",
   "pygments_lexer": "ipython3",
   "version": "3.9.12"
  }
 },
 "nbformat": 4,
 "nbformat_minor": 5
}
